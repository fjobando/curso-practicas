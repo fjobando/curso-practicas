{
 "cells": [
  {
   "cell_type": "markdown",
   "id": "c2156427-4939-493a-8c7e-edf670245170",
   "metadata": {},
   "source": [
    "# Ejercicio 1: Verifica el tipo de dato\n",
    "**Enunciado**:\n",
    "Crea una variable con un número entero, una con un número decimal y una con texto. Imprime el tipo de cada una usando type().\n",
    "\n",
    "**Explicación:** En Python, cada valor tiene un tipo de dato: int, float, str, etc.\n",
    "type(variable) devuelve el tipo de esa variable."
   ]
  },
  {
   "cell_type": "code",
   "execution_count": 1,
   "id": "c30eae14-5e28-4d3a-8641-8f937174b01f",
   "metadata": {},
   "outputs": [
    {
     "name": "stdout",
     "output_type": "stream",
     "text": [
      "Tipo de 'entero': <class 'int'>\n",
      "Tipo de 'decimal': <class 'float'>\n",
      "Tipo de 'texto': <class 'str'>\n"
     ]
    }
   ],
   "source": [
    "entero = 5\n",
    "decimal = 3.14\n",
    "texto = \"Hola\"\n",
    "\n",
    "print(\"Tipo de 'entero':\", type(entero))\n",
    "print(\"Tipo de 'decimal':\", type(decimal))\n",
    "print(\"Tipo de 'texto':\", type(texto))\n"
   ]
  },
  {
   "cell_type": "markdown",
   "id": "8b86925f-b306-49ce-b391-c0b034ac669f",
   "metadata": {},
   "source": [
    "# Ejercicio 2: Conversión de tipos\n",
    "**Enunciado:** solicite un número decimal al usuario y conviértelo a entero y cadena. Muestre los resultados y los tipos.\n",
    "\n",
    "**Explicación:** input() recibe texto, así que se debe convertir a float primero.\n",
    "\n",
    "Luego, se convierte a:\n",
    "    \n",
    "    * Entero con int()\n",
    "    * Cadena con str()\n",
    "Finalmente se usa type() para mostrar el tipo de cada resultado."
   ]
  },
  {
   "cell_type": "code",
   "execution_count": 5,
   "id": "0f1d8008-6f9a-4eb0-9b75-6c96043ddfe3",
   "metadata": {},
   "outputs": [
    {
     "name": "stdin",
     "output_type": "stream",
     "text": [
      "Ingresa un número decimal:  7.5\n"
     ]
    },
    {
     "name": "stdout",
     "output_type": "stream",
     "text": [
      "Versión entera: 7 | Tipo: <class 'int'>\n",
      "Versión como texto: 7.5 | Tipo: <class 'str'>\n"
     ]
    }
   ],
   "source": [
    "numero_decimal = float(input(\"Ingresa un número decimal: \"))\n",
    "\n",
    "numero_entero = int(numero_decimal)\n",
    "numero_cadena = str(numero_decimal)\n",
    "\n",
    "print(\"Versión entera:\", numero_entero, \"| Tipo:\", type(numero_entero))\n",
    "print(\"Versión como texto:\", numero_cadena, \"| Tipo:\", type(numero_cadena))\n"
   ]
  },
  {
   "cell_type": "markdown",
   "id": "fa7e58b3-d29d-481a-a454-85c4db49c703",
   "metadata": {},
   "source": [
    "# Ejercicio 3: Redondeo de número flotante\n",
    "**Enunciado:** Crear una variable con un número decimal y redondéalo a 2 decimales.\n",
    "**Explicación:** se puede usar la función round(valor, decimales) para redondear.\n",
    "\n",
    "Por ejemplo: **round**(3.14159, 2) da como resultado 3.14."
   ]
  },
  {
   "cell_type": "code",
   "execution_count": 6,
   "id": "bd739b11-87f3-4070-804c-4c0b6c9270e8",
   "metadata": {},
   "outputs": [
    {
     "name": "stdout",
     "output_type": "stream",
     "text": [
      "Valor original: 3.14159\n",
      "Redondeado a 2 decimales: 3.14\n"
     ]
    }
   ],
   "source": [
    "pi = 3.14159\n",
    "pi_redondeado = round(pi, 2)\n",
    "\n",
    "print(\"Valor original:\", pi)\n",
    "print(\"Redondeado a 2 decimales:\", pi_redondeado)\n"
   ]
  },
  {
   "cell_type": "markdown",
   "id": "163809ee-463b-4a2a-8ded-c64af8492f13",
   "metadata": {},
   "source": [
    "# Ejercicio 4: Operación con tipos diferentes\n",
    "**Enunciado:** Debe crear una variable entera y una flotante. Luego, debe sumarlas y mostrar el tipo del resultado.\n",
    "\n",
    "**Explicación:** En Python, cuando se suma un int con un float, el resultado es automáticamente un float.\n",
    "\n",
    "Esto se debe a la promoción de tipos: \n",
    "* En Python, cuando se suma un int con un float, el resultado es automáticamente un float.\n",
    "* Esto se debe a la promoción de tipos: Python preserva la mayor precisión."
   ]
  },
  {
   "cell_type": "code",
   "execution_count": 9,
   "id": "17710ecc-b328-42d0-a549-805ea0656b7a",
   "metadata": {},
   "outputs": [
    {
     "name": "stdout",
     "output_type": "stream",
     "text": [
      "Resultado de la suma: 5.5\n",
      "Tipo del resultado: <class 'float'>\n"
     ]
    }
   ],
   "source": [
    "entero = 2\n",
    "decimal = 3.5\n",
    "\n",
    "resultado = entero + decimal\n",
    "\n",
    "print(\"Resultado de la suma:\", resultado)\n",
    "print(\"Tipo del resultado:\", type(resultado))\n"
   ]
  },
  {
   "cell_type": "markdown",
   "id": "7fa40981-c17b-4e7c-ad4b-a024f9988587",
   "metadata": {},
   "source": [
    "# Ejercicio 5: Entrada numérica\n",
    "**Enunciado:** Debe solicitar al usuario su edad y mostrarla como número entero, flotante y como cadena.\n",
    "\n",
    "**Explicación:** \n",
    "* input() siempre retorna un string, por lo tanto se convierte explícitamente a int y a float.\n",
    "* Luego, se imprime cada valor y su tipo con type()."
   ]
  },
  {
   "cell_type": "code",
   "execution_count": 10,
   "id": "df4f93cf-0abf-4f11-ba44-7a5b15657523",
   "metadata": {},
   "outputs": [
    {
     "name": "stdin",
     "output_type": "stream",
     "text": [
      "Ingrese su edad:  42\n"
     ]
    },
    {
     "name": "stdout",
     "output_type": "stream",
     "text": [
      "Edad como entero: 42 | Tipo: <class 'int'>\n",
      "Edad como decimal: 42.0 | Tipo: <class 'float'>\n",
      "Edad como cadena: 42 | Tipo: <class 'str'>\n"
     ]
    }
   ],
   "source": [
    "entrada = input(\"Ingrese su edad: \")\n",
    "\n",
    "edad_entero = int(entrada)\n",
    "edad_decimal = float(entrada)\n",
    "edad_cadena = str(entrada)\n",
    "\n",
    "print(\"Edad como entero:\", edad_entero, \"| Tipo:\", type(edad_entero))\n",
    "print(\"Edad como decimal:\", edad_decimal, \"| Tipo:\", type(edad_decimal))\n",
    "print(\"Edad como cadena:\", edad_cadena, \"| Tipo:\", type(edad_cadena))\n"
   ]
  },
  {
   "cell_type": "markdown",
   "id": "e7d5a09e-ecad-4cc5-85bb-aaa71b852cde",
   "metadata": {},
   "source": [
    "# Ejercicio 6: Comparación de edades\n",
    "\n",
    "**Enunciado:** Debe comparar la edad de dos personas e imprimir quién es mayor, menor o si tienen la misma edad.\n",
    "\n",
    "**Explicación:**\n",
    "* Se solicitan dos edades al usuario.\n",
    "* Se convierten a enteros.\n",
    "* Se usa condicional `if`, `elif` y `else` para determinar la relación entre ambas edades.\n"
   ]
  },
  {
   "cell_type": "code",
   "execution_count": 13,
   "id": "035b1f79-3916-443a-9e74-c140c6f2575f",
   "metadata": {},
   "outputs": [
    {
     "name": "stdin",
     "output_type": "stream",
     "text": [
      "Ingrese la edad de la primera persona:  42\n",
      "Ingrese la edad de la segunda persona:  42\n"
     ]
    },
    {
     "name": "stdout",
     "output_type": "stream",
     "text": [
      "Ambas personas tienen la misma edad.\n"
     ]
    }
   ],
   "source": [
    "edad1 = int(input(\"Ingrese la edad de la primera persona: \"))\n",
    "edad2 = int(input(\"Ingrese la edad de la segunda persona: \"))\n",
    "\n",
    "if edad1 > edad2:\n",
    "    print(\"La primera persona es mayor.\")\n",
    "elif edad1 < edad2:\n",
    "    print(\"La segunda persona es mayor.\")\n",
    "else:\n",
    "    print(\"Ambas personas tienen la misma edad.\")\n"
   ]
  },
  {
   "cell_type": "markdown",
   "id": "959d2c72-4dca-450e-9ed3-94e31388c518",
   "metadata": {},
   "source": [
    "# Ejercicio 7: Verifica si un número está en un rango\n",
    "\n",
    "**Enunciado:** Debe pedir un número al usuario y verificar si está entre 10 y 20 (inclusive).\n",
    "\n",
    "**Explicación:**  \n",
    "* Se solicita un número al usuario y se convierte a entero.\n",
    "* Se usa una condición con operadores lógicos para verificar si está dentro del rango.\n",
    "* Se imprime el resultado correspondiente.\n"
   ]
  },
  {
   "cell_type": "code",
   "execution_count": 14,
   "id": "72e8ebfe-70f7-404a-bbeb-42522f67dbca",
   "metadata": {},
   "outputs": [
    {
     "name": "stdin",
     "output_type": "stream",
     "text": [
      "Ingrese un número:  56\n"
     ]
    },
    {
     "name": "stdout",
     "output_type": "stream",
     "text": [
      "El número está fuera del rango.\n"
     ]
    }
   ],
   "source": [
    "numero = int(input(\"Ingrese un número: \"))\n",
    "\n",
    "if 10 <= numero <= 20:\n",
    "    print(\"El número está en el rango de 10 a 20.\")\n",
    "else:\n",
    "    print(\"El número está fuera del rango.\")\n"
   ]
  },
  {
   "cell_type": "markdown",
   "id": "69b5f490-ed40-46c6-b2b5-b0bcf48d16dc",
   "metadata": {},
   "source": [
    "# Ejercicio 8: Comprobación de igualdad de cadenas\n",
    "\n",
    "**Enunciado:**  \n",
    "Debe verificar si dos cadenas ingresadas por el usuario son iguales, ignorando mayúsculas.\n",
    "\n",
    "**Explicación:**  \n",
    "* Se piden dos textos al usuario.\n",
    "* Se convierten ambas cadenas a minúsculas con `.lower()` para que la comparación no distinga mayúsculas.\n",
    "* Se compara si son iguales y se muestra el resultado.\n"
   ]
  },
  {
   "cell_type": "code",
   "execution_count": 15,
   "id": "b4506e05-25de-4f78-b3bb-cdfbdfe25b04",
   "metadata": {},
   "outputs": [
    {
     "name": "stdin",
     "output_type": "stream",
     "text": [
      "Ingrese la primera cadena:  hola mundo\n",
      "Ingrese la segunda cadena:  hola\n"
     ]
    },
    {
     "name": "stdout",
     "output_type": "stream",
     "text": [
      "Las cadenas son diferentes.\n"
     ]
    }
   ],
   "source": [
    "texto1 = input(\"Ingrese la primera cadena: \")\n",
    "texto2 = input(\"Ingrese la segunda cadena: \")\n",
    "\n",
    "if texto1.lower() == texto2.lower():\n",
    "    print(\"Las cadenas son iguales.\")\n",
    "else:\n",
    "    print(\"Las cadenas son diferentes.\")\n"
   ]
  },
  {
   "cell_type": "markdown",
   "id": "707e743e-dd9f-4ca4-b3c5-8b9ef206c551",
   "metadata": {},
   "source": [
    "# Ejercicio 9: Lista de compras\n",
    "\n",
    "**Enunciado:**  \n",
    "Debe crear una lista de compras, añadir 3 productos, eliminar 1 y mostrar la lista final.\n",
    "\n",
    "**Explicación:**  \n",
    "* Se define una lista vacía.\n",
    "* Se agregan 3 productos con el método `.append()`.\n",
    "* Se elimina uno de ellos con `.remove()`.\n",
    "* Se imprime la lista resultante.\n"
   ]
  },
  {
   "cell_type": "code",
   "execution_count": 17,
   "id": "445aed36-bb05-48bf-b2e7-c0877b4da831",
   "metadata": {},
   "outputs": [
    {
     "name": "stdout",
     "output_type": "stream",
     "text": [
      "1 - Lista Inicial de compras: ['pan', 'leche', 'huevos']\n",
      "2 - Lista final de compras: ['pan', 'huevos']\n"
     ]
    }
   ],
   "source": [
    "lista_compras = []\n",
    "\n",
    "# Añadir productos\n",
    "lista_compras.append(\"pan\")\n",
    "lista_compras.append(\"leche\")\n",
    "lista_compras.append(\"huevos\")\n",
    "print(\"1 - Lista Inicial de compras:\", lista_compras)\n",
    "# Eliminar uno\n",
    "lista_compras.remove(\"leche\")\n",
    "\n",
    "# Mostrar resultado\n",
    "print(\"2 - Lista final de compras:\", lista_compras)\n"
   ]
  },
  {
   "cell_type": "markdown",
   "id": "d2a78928-d417-4b40-b362-dc20a8d53c8d",
   "metadata": {},
   "source": [
    "# Ejercicio 10: Contar elementos en una lista\n",
    "\n",
    "**Enunciado:**  \n",
    "Debe crear una lista de frutas y contar cuántas veces aparece una fruta específica.\n",
    "\n",
    "**Explicación:**  \n",
    "* Se crea una lista con algunas frutas, incluyendo repeticiones.\n",
    "* Se utiliza el método `.count(valor)` para contar cuántas veces aparece una fruta dada.\n",
    "* Se imprime el resultado.\n",
    "\n",
    "\n",
    "**f\"...\"** se refiere a una f-string (formatted string literal). Sirve para insertar variables o expresiones directamente dentro de una cadena de texto."
   ]
  },
  {
   "cell_type": "code",
   "execution_count": 19,
   "id": "13973f69-bcf6-47f1-90ee-9741439f3b91",
   "metadata": {},
   "outputs": [
    {
     "name": "stdout",
     "output_type": "stream",
     "text": [
      "La fruta 'banano' aparece 1 veces.\n"
     ]
    }
   ],
   "source": [
    "frutas = [\"manzana\", \"pera\", \"manzana\", \"banano\", \"manzana\"]\n",
    "fruta_a_buscar = \"banano\"\n",
    "\n",
    "cantidad = frutas.count(fruta_a_buscar)\n",
    "\n",
    "print(f\"La fruta '{fruta_a_buscar}' aparece {cantidad} veces.\")\n",
    "\n"
   ]
  },
  {
   "cell_type": "markdown",
   "id": "7c7f6134-5504-4229-af25-f5ac18056ca3",
   "metadata": {},
   "source": [
    "# Ejercicio 11: Suma de elementos en tupla\n",
    "\n",
    "**Enunciado:**  \n",
    "Debe crear una tupla de 5 números y calcular la suma total de sus elementos.\n",
    "\n",
    "**Explicación:**  \n",
    "* Una tupla es similar a una lista, pero es inmutable (no se puede modificar).\n",
    "* Se utiliza la función incorporada `sum()` para obtener la suma de todos los valores de la tupla.\n"
   ]
  },
  {
   "cell_type": "code",
   "execution_count": 20,
   "id": "e5ecd17b-33ef-499f-8e1d-a83daaf5ddc2",
   "metadata": {},
   "outputs": [
    {
     "name": "stdout",
     "output_type": "stream",
     "text": [
      "La suma total de los elementos es: 15\n"
     ]
    }
   ],
   "source": [
    "numeros = (1, 2, 3, 4, 5)\n",
    "suma_total = sum(numeros)\n",
    "\n",
    "print(\"La suma total de los elementos es:\", suma_total)\n"
   ]
  },
  {
   "cell_type": "markdown",
   "id": "f8bb0043-e67e-4bcd-8640-c5b87a451371",
   "metadata": {},
   "source": [
    "# Ejercicio 12: Convertir tupla a lista\n",
    "\n",
    "**Enunciado:**  \n",
    "Debe convertir una tupla de nombres a una lista y añadir un nuevo nombre.\n",
    "\n",
    "**Explicación:**  \n",
    "* Las tuplas no se pueden modificar, por eso primero se convierten en una lista con `list()`.\n",
    "* Luego, se añade un nuevo elemento usando `.append()`.\n",
    "* Finalmente, se imprime la lista resultante.\n"
   ]
  },
  {
   "cell_type": "code",
   "execution_count": 21,
   "id": "961c376b-889b-4eb1-bb6d-73cd3db1df64",
   "metadata": {},
   "outputs": [
    {
     "name": "stdout",
     "output_type": "stream",
     "text": [
      "Lista final de nombres: ['Ana', 'Luis', 'Marta']\n"
     ]
    }
   ],
   "source": [
    "nombres_tupla = (\"Ana\", \"Luis\")\n",
    "nombres_lista = list(nombres_tupla)\n",
    "\n",
    "nombres_lista.append(\"Marta\")\n",
    "\n",
    "print(\"Lista final de nombres:\", nombres_lista)\n"
   ]
  },
  {
   "cell_type": "markdown",
   "id": "b4d08898-7072-497b-aae4-abbc06eafe12",
   "metadata": {},
   "source": [
    "# Ejercicio 13: Contador con while\n",
    "\n",
    "**Enunciado:**  \n",
    "Debe imprimir los números del 1 al 10 utilizando un ciclo `while`.\n",
    "\n",
    "**Explicación:**  \n",
    "* Se inicializa una variable en 1.\n",
    "* Mientras esa variable sea menor o igual a 10, se imprime su valor.\n",
    "* En cada iteración se incrementa en 1 usando `+= 1` para evitar un bucle infinito.\n"
   ]
  },
  {
   "cell_type": "code",
   "execution_count": 25,
   "id": "1d6e302c-593b-4876-a88f-146082cc35ec",
   "metadata": {},
   "outputs": [
    {
     "name": "stdout",
     "output_type": "stream",
     "text": [
      "1  2  3  4  5  6  7  8  9  10  "
     ]
    }
   ],
   "source": [
    "contador = 1\n",
    "\n",
    "while contador <= 10:\n",
    "    print(contador, end=\"  \")\n",
    "    contador += 1\n"
   ]
  },
  {
   "cell_type": "markdown",
   "id": "0644d320-3138-4047-a554-441f7f78240a",
   "metadata": {},
   "source": [
    "# Ejercicio 14: Suma acumulada con while\n",
    "\n",
    "**Enunciado:**  \n",
    "Debe pedir números al usuario hasta que ingrese 0. Luego debe mostrar la suma total.\n",
    "\n",
    "**Explicación:**  \n",
    "* Se usa un ciclo `while` que se repite mientras el número ingresado no sea 0.\n",
    "* En cada iteración, se suma el valor ingresado a un acumulador.\n",
    "* Cuando se ingresa 0, el programa termina y muestra la suma total.\n"
   ]
  },
  {
   "cell_type": "code",
   "execution_count": 26,
   "id": "4960db7f-6e8c-4013-976c-66f886f1b8fd",
   "metadata": {},
   "outputs": [
    {
     "name": "stdin",
     "output_type": "stream",
     "text": [
      "Ingrese un número (0 para terminar):  4\n",
      "Ingrese un número (0 para terminar):  5\n",
      "Ingrese un número (0 para terminar):  6\n",
      "Ingrese un número (0 para terminar):  8\n",
      "Ingrese un número (0 para terminar):  9\n",
      "Ingrese un número (0 para terminar):  0\n"
     ]
    },
    {
     "name": "stdout",
     "output_type": "stream",
     "text": [
      "La suma total es: 32\n"
     ]
    }
   ],
   "source": [
    "suma_total = 0\n",
    "\n",
    "while True:\n",
    "    numero = int(input(\"Ingrese un número (0 para terminar): \"))\n",
    "    if numero == 0:\n",
    "        break\n",
    "    suma_total += numero\n",
    "\n",
    "print(\"La suma total es:\", suma_total)\n"
   ]
  },
  {
   "cell_type": "markdown",
   "id": "cee3bf7c-a1cc-4f30-8535-7def43f2ad9d",
   "metadata": {},
   "source": [
    "# Ejercicio 15: Iterar sobre una lista con for\n",
    "\n",
    "**Enunciado:**  \n",
    "Debe imprimir cada elemento de una lista junto con su índice.\n",
    "\n",
    "**Explicación:**  \n",
    "* Se define una lista con algunos elementos.\n",
    "* Se usa la función `enumerate()` dentro de un ciclo `for` para obtener tanto el índice como el valor.\n",
    "* Se imprime cada par índice-valor en una línea.\n",
    "\n",
    "La función enumerate() permite recorrer una colección (como una lista) y al mismo tiempo obtener el índice de cada elemento, sin tener que llevar una variable manual para contar\n"
   ]
  },
  {
   "cell_type": "code",
   "execution_count": 27,
   "id": "58de7763-e81f-4c96-bde0-2f73fcd173cd",
   "metadata": {},
   "outputs": [
    {
     "name": "stdout",
     "output_type": "stream",
     "text": [
      "0: a\n",
      "1: b\n",
      "2: c\n",
      "3: d\n"
     ]
    }
   ],
   "source": [
    "letras = [\"a\", \"b\", \"c\", \"d\"]\n",
    "\n",
    "for indice, valor in enumerate(letras):\n",
    "    print(f\"{indice}: {valor}\")\n"
   ]
  },
  {
   "cell_type": "markdown",
   "id": "b6ee226b-bd84-457c-b91f-5f0622baf3ed",
   "metadata": {},
   "source": [
    "# Ejercicio 16: Calcular el promedio\n",
    "\n",
    "**Enunciado:**  \n",
    "Dada una lista de calificaciones, debe calcular e imprimir el promedio.\n",
    "\n",
    "**Explicación:**  \n",
    "* Se define una lista con varias calificaciones numéricas.\n",
    "* Se usa la función `sum()` para sumar todos los valores.\n",
    "* Se divide la suma entre la cantidad de elementos con `len()`.\n",
    "* Finalmente, se imprime el promedio.\n"
   ]
  },
  {
   "cell_type": "code",
   "execution_count": 28,
   "id": "3e5a64c4-0c9e-432d-aa4d-c635997888a9",
   "metadata": {},
   "outputs": [
    {
     "name": "stdout",
     "output_type": "stream",
     "text": [
      "El promedio de las calificaciones es: 8.6\n"
     ]
    }
   ],
   "source": [
    "calificaciones = [10, 9, 8, 7, 9]\n",
    "promedio = sum(calificaciones) / len(calificaciones)\n",
    "\n",
    "print(\"El promedio de las calificaciones es:\", promedio)\n"
   ]
  },
  {
   "cell_type": "markdown",
   "id": "556149f2-5286-4e02-abef-5da20a16d13f",
   "metadata": {},
   "source": [
    "# Ejercicio 17: Imprimir solo números pares del 1 al 20\n",
    "\n",
    "**Enunciado:**  \n",
    "Debe utilizar un ciclo `for` para imprimir únicamente los números pares entre 1 y 20.\n",
    "\n",
    "**Explicación:**  \n",
    "* Se recorre un rango del 1 al 20 usando `range()`.\n",
    "* En cada iteración se verifica si el número es par con `num % 2 == 0`.\n",
    "* Si es par, se imprime en la misma línea con `end=' '`.\n"
   ]
  },
  {
   "cell_type": "code",
   "execution_count": 29,
   "id": "e6a212e2-192e-4aae-b5a2-9c5718bb14ca",
   "metadata": {},
   "outputs": [
    {
     "name": "stdout",
     "output_type": "stream",
     "text": [
      "2 4 6 8 10 12 14 16 18 20 "
     ]
    }
   ],
   "source": [
    "for num in range(1, 21):\n",
    "    if num % 2 == 0:\n",
    "        print(num, end=' ')\n"
   ]
  },
  {
   "cell_type": "markdown",
   "id": "29f01fb4-f70f-4d62-8fec-bfd7a0096d3f",
   "metadata": {},
   "source": [
    "# Ejercicio 18: Crear un diccionario de estudiante\n",
    "\n",
    "**Enunciado:**  \n",
    "Debe crear un diccionario que contenga el nombre, la edad y el curso de un estudiante. Luego, debe imprimirlo completo.\n",
    "\n",
    "**Explicación:**  \n",
    "* Un diccionario en Python es una colección de pares clave-valor.\n",
    "* Se define el diccionario con llaves `{}`.\n",
    "* Cada clave tiene un valor asociado (por ejemplo: `\"nombre\": \"Ana\"`).\n",
    "* Se imprime el diccionario directamente.\n"
   ]
  },
  {
   "cell_type": "code",
   "execution_count": 36,
   "id": "1aa54c54-b588-4903-a5b3-e23561714571",
   "metadata": {},
   "outputs": [
    {
     "name": "stdout",
     "output_type": "stream",
     "text": [
      "Diccionario del estudiante: {'nombre': 'Francisco', 'edad': 41, 'curso': 'Python'}\n"
     ]
    }
   ],
   "source": [
    "estudiante = {\n",
    "    \"nombre\": \"Francisco\",\n",
    "    \"edad\": 41,\n",
    "    \"curso\": \"Python\"\n",
    "}\n",
    "\n",
    "print(\"Diccionario del estudiante:\", estudiante)\n",
    "\n",
    "\n"
   ]
  },
  {
   "cell_type": "markdown",
   "id": "d550d401-21b8-4492-ac32-d87a0c00d5a5",
   "metadata": {},
   "source": [
    "# Ejercicio 19: Actualizar valor en diccionario\n",
    "\n",
    "**Enunciado:**  \n",
    "Debe modificar la edad del estudiante del ejercicio anterior y agregar una nueva clave llamada `\"nota final\"`.\n",
    "\n",
    "**Explicación:**  \n",
    "* Para actualizar un valor en el diccionario, se usa `diccionario[\"clave\"] = nuevo_valor`.\n",
    "* Para agregar una nueva clave, simplemente se asigna como si ya existiera.\n",
    "* Al final, se imprime el diccionario actualizado.\n",
    "\n",
    "\n",
    "Para acceder a un dato específico de un diccionario en Python, se utiliza la clave entre corchetes ([]) o el método .get().\n"
   ]
  },
  {
   "cell_type": "code",
   "execution_count": 40,
   "id": "b9dd2435-ff36-4b82-8489-a67428295ddb",
   "metadata": {},
   "outputs": [
    {
     "name": "stdout",
     "output_type": "stream",
     "text": [
      "Diccionario actualizado del estudiante: {'nombre': 'Francisco', 'edad': 42, 'curso': 'Python', 'nota final': 9.0}\n",
      "Solo el nombre Francisco\n",
      "USando el get() Francisco\n"
     ]
    }
   ],
   "source": [
    "# Se parte del diccionario anterior\n",
    "estudiante[\"edad\"] = 42\n",
    "estudiante[\"nota final\"] = 9.0\n",
    "\n",
    "print(\"Diccionario actualizado del estudiante:\", estudiante)\n",
    "print(\"Solo el nombre\", estudiante[\"nombre\"])\n",
    "print(\"Usando el get()\", estudiante.get(\"nombre\"))\n"
   ]
  },
  {
   "cell_type": "markdown",
   "id": "a0924f76-aec0-495e-86c7-4599e588f3f5",
   "metadata": {},
   "source": [
    "# Ejercicio 20: Iterar sobre un diccionario\n",
    "\n",
    "**Enunciado:**  \n",
    "Debe imprimir todas las claves y valores del diccionario del estudiante, línea por línea.\n",
    "\n",
    "**Explicación:**  \n",
    "* Se recorre el diccionario usando un ciclo `for` junto con el método `.items()`.\n",
    "* En cada iteración, se obtiene la clave y el valor.\n",
    "* Ambos se imprimen en una sola línea con formato `clave: valor`.\n"
   ]
  },
  {
   "cell_type": "code",
   "execution_count": 41,
   "id": "d4dce3ef-1260-41b0-993a-4731fc972d95",
   "metadata": {},
   "outputs": [
    {
     "name": "stdout",
     "output_type": "stream",
     "text": [
      "nombre: Francisco\n",
      "edad: 42\n",
      "curso: Python\n",
      "nota final: 9.0\n"
     ]
    }
   ],
   "source": [
    "for clave, valor in estudiante.items():\n",
    "    print(f\"{clave}: {valor}\")\n"
   ]
  },
  {
   "cell_type": "markdown",
   "id": "6be55b1d-607e-4620-b843-fa423b9df725",
   "metadata": {},
   "source": [
    "# Ejercicio 21: Crear una carpeta\n",
    "\n",
    "**Enunciado:**  \n",
    "Debe crear una carpeta llamada `datos` si no existe.\n",
    "\n",
    "**Explicación:**  \n",
    "* Se utiliza el módulo `os` para trabajar con el sistema de archivos.\n",
    "* La función `os.path.exists()` verifica si la carpeta ya existe.\n",
    "* Si no existe, `os.mkdir()` la crea.\n"
   ]
  },
  {
   "cell_type": "code",
   "execution_count": 42,
   "id": "62345847-3913-45c4-801a-99fb9b9ec4a8",
   "metadata": {},
   "outputs": [
    {
     "name": "stdout",
     "output_type": "stream",
     "text": [
      "La carpeta 'datos' fue creada.\n"
     ]
    }
   ],
   "source": [
    "import os\n",
    "\n",
    "nombre_carpeta = \"datos\"\n",
    "\n",
    "if not os.path.exists(nombre_carpeta):\n",
    "    os.mkdir(nombre_carpeta)\n",
    "    print(f\"La carpeta '{nombre_carpeta}' fue creada.\")\n",
    "else:\n",
    "    print(f\"La carpeta '{nombre_carpeta}' ya existe.\")\n"
   ]
  },
  {
   "cell_type": "markdown",
   "id": "0881a4c0-8cb2-4df2-84ec-f20e48764b33",
   "metadata": {},
   "source": [
    "# Ejercicio 22: Crear un archivo dentro de una carpeta\n",
    "\n",
    "**Enunciado:**  \n",
    "Debe crear un archivo de texto llamado `resumen.txt` dentro de la carpeta `datos` y escribir la frase `\"Laboratorio de Python\"`.\n",
    "\n",
    "**Explicación:**  \n",
    "* Se usa la instrucción `with open()` para abrir o crear el archivo de forma segura.\n",
    "* La ruta incluye la carpeta `datos/` y el nombre del archivo.\n",
    "* El modo `'w'` indica escritura (si el archivo existe, lo sobrescribe).\n"
   ]
  },
  {
   "cell_type": "code",
   "execution_count": 43,
   "id": "92ce2f29-e600-4e9d-9b84-3e742fc3a65c",
   "metadata": {},
   "outputs": [
    {
     "name": "stdout",
     "output_type": "stream",
     "text": [
      "Archivo 'resumen.txt' creado y contenido escrito.\n"
     ]
    }
   ],
   "source": [
    "ruta_archivo = os.path.join(\"datos\", \"resumen.txt\")\n",
    "\n",
    "with open(ruta_archivo, 'w', encoding='utf-8') as archivo:\n",
    "    archivo.write(\"Laboratorio de Python\")\n",
    "\n",
    "print(f\"Archivo 'resumen.txt' creado y contenido escrito.\")\n"
   ]
  },
  {
   "cell_type": "markdown",
   "id": "a03548dc-c483-4161-8d49-ca0d9b3b9088",
   "metadata": {},
   "source": [
    "# Ejercicio 23: Leer un archivo de texto\n",
    "\n",
    "**Enunciado:**  \n",
    "Debe leer el contenido del archivo `resumen.txt` ubicado en la carpeta `datos` y mostrarlo en consola.\n",
    "\n",
    "**Explicación:**  \n",
    "* Se abre el archivo con `open()` en modo lectura `'r'`.\n",
    "* Se usa `.read()` para obtener todo el contenido del archivo.\n",
    "* Finalmente, se imprime lo leído en consola.\n"
   ]
  },
  {
   "cell_type": "code",
   "execution_count": 45,
   "id": "d04fe5ce-d24d-4567-bcb6-40a41ad672d6",
   "metadata": {},
   "outputs": [
    {
     "name": "stdout",
     "output_type": "stream",
     "text": [
      "Contenido del archivo:\n",
      "Laboratorio de Python\n",
      "son 25 ejecicios de basicos de python\n"
     ]
    }
   ],
   "source": [
    "ruta_archivo = os.path.join(\"datos\", \"resumen.txt\")\n",
    "\n",
    "with open(ruta_archivo, 'r', encoding='utf-8') as archivo:\n",
    "    contenido = archivo.read()\n",
    "\n",
    "print(\"Contenido del archivo:\")\n",
    "print(contenido)\n"
   ]
  },
  {
   "cell_type": "markdown",
   "id": "40160b11-9ff0-41f9-987b-52f3d8d7f686",
   "metadata": {},
   "source": [
    "# Ejercicio 24: Leer archivo Excel\n",
    "\n",
    "**Enunciado:**  \n",
    "Debe cargar un archivo de Excel llamado `alumnos.xlsx` y mostrar las primeras 5 filas.\n",
    "\n",
    "**Explicación:**  \n",
    "* Se utiliza la biblioteca `pandas` para leer el archivo Excel.\n",
    "* La función `pd.read_excel()` carga el archivo en un DataFrame.\n",
    "* El método `.head()` muestra las primeras filas del archivo.\n",
    "* Asegúrese de que el archivo `alumnos.xlsx` esté en el mismo directorio del notebook o indique su ruta completa\n",
    "\n",
    "pandas necesita openpyxl para guardar archivos .xlsx y  También usa xlrd o openpyxl para leerlos, dependiendo del caso\n",
    "para instalrlo use **pip install openpyxl**\n"
   ]
  },
  {
   "cell_type": "code",
   "execution_count": 49,
   "id": "f08d4255-08d5-4108-9bd6-745613a16714",
   "metadata": {},
   "outputs": [
    {
     "name": "stdout",
     "output_type": "stream",
     "text": [
      "Primeras 5 filas del archivo:\n",
      "  Nombre  Edad     Carrera  Promedio\n",
      "0    Ana    21  Ingeniería       4.2\n",
      "1   Luis    22     Derecho       3.8\n",
      "2  Pedro    20    Medicina       4.5\n",
      "3  Marta    23  Psicología       4.0\n",
      "4  Sofía    21    Biología       3.9\n"
     ]
    }
   ],
   "source": [
    "import pandas as pd\n",
    "\n",
    "archivo_excel = \"alumnos.xlsx\"\n",
    "\n",
    "try:\n",
    "    df = pd.read_excel(archivo_excel)\n",
    "    print(\"Primeras 5 filas del archivo:\")\n",
    "    print(df.head())\n",
    "except FileNotFoundError:\n",
    "    print(f\"No se encontró el archivo '{archivo_excel}'. Asegúrese de que esté en la ruta correcta.\")\n",
    "\n",
    " "
   ]
  },
  {
   "cell_type": "markdown",
   "id": "a4a42862-e11c-41af-a767-57673b7263ee",
   "metadata": {},
   "source": [
    "# Ejercicio 25: Filtrar alumnos con nota mayor a 8\n",
    "\n",
    "**Enunciado:**  \n",
    "Debe filtrar e imprimir los alumnos cuya nota sea superior a 4 a partir del archivo `alumnos.xlsx`.\n",
    "\n",
    "**Explicación:**  \n",
    "* Se parte del DataFrame cargado previamente desde el archivo Excel.\n",
    "* Se filtran las filas donde la columna `nota` sea mayor a 4.\n",
    "* Se imprime el resultado.\n",
    "* Asegúrese de que exista una columna llamada `nota` o `promedio` en el archivo Excel.\n"
   ]
  },
  {
   "cell_type": "code",
   "execution_count": 51,
   "id": "53aab86e-95ab-4d24-b821-6c611b682576",
   "metadata": {},
   "outputs": [
    {
     "name": "stdout",
     "output_type": "stream",
     "text": [
      "Alumnos con nota mayor a 4.0:\n",
      "   Nombre  Edad       Carrera  Promedio\n",
      "0     Ana    21    Ingeniería       4.2\n",
      "2   Pedro    20      Medicina       4.5\n",
      "5  Carlos    22  Arquitectura       4.1\n",
      "6   Lucía    20    Ingeniería       4.3\n"
     ]
    }
   ],
   "source": [
    "try:\n",
    "    # Suponiendo que df ya fue cargado en el ejercicio anterior\n",
    "    alumnos_destacados = df[df[\"Promedio\"] > 4]\n",
    "    print(\"Alumnos con nota mayor a 4.0:\")\n",
    "    print(alumnos_destacados)\n",
    "except KeyError:\n",
    "    print(\"La columna 'nota' no se encuentra en el archivo.\")\n",
    "except NameError:\n",
    "    print(\"Primero debe cargar el archivo Excel y asignarlo a 'df'.\")\n"
   ]
  },
  {
   "cell_type": "code",
   "execution_count": null,
   "id": "222645da-c028-45c1-95cc-a11b1757dd0a",
   "metadata": {},
   "outputs": [],
   "source": []
  }
 ],
 "metadata": {
  "kernelspec": {
   "display_name": "Python 3 (ipykernel)",
   "language": "python",
   "name": "python3"
  },
  "language_info": {
   "codemirror_mode": {
    "name": "ipython",
    "version": 3
   },
   "file_extension": ".py",
   "mimetype": "text/x-python",
   "name": "python",
   "nbconvert_exporter": "python",
   "pygments_lexer": "ipython3",
   "version": "3.11.9"
  }
 },
 "nbformat": 4,
 "nbformat_minor": 5
}
